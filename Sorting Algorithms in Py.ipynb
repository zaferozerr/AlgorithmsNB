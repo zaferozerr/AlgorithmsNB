{
 "cells": [
  {
   "cell_type": "markdown",
   "id": "6ac36f66",
   "metadata": {},
   "source": [
    " This notebook we will discuss the most important sorting algorithms that were dicussed in the data structure class. An implementation of each algorithm in addition to a brief explanation on how the algorithm works will also be provided. Each sorting algorithm implementation will be done in python. \n",
    "\n",
    "**Introduction to Sorting: what is sorting?**\n",
    "\n",
    "\n",
    "\n",
    "\n",
    "  <font color='red'>Introduction of Sorting: Definition of Sorting</font> \n",
    "  \n",
    "\n",
    "  In computer science, arranging in an ordered sequence is called “sorting”. Sorting is a common operation in many applications, and efficient algorithms have been developed to perform it. The most common uses of sorted sequences are: making lookup or search efficient; making merging of sequences efficient. Sorting is an improtant componenet of writing efficient code and enabling organization of data. \n",
    "\n",
    "The Sorting algorithm that this notebook is going to implement are the following:\n",
    "\n",
    "  - Bubble Sort\n",
    "  - Merge sort\n",
    "  - Radix Sort\n",
    "  - Insertion sort\n",
    "  \n",
    "\n",
    "\n",
    "\n"
   ]
  },
  {
   "cell_type": "markdown",
   "id": "b1aac6d3",
   "metadata": {},
   "source": [
    "<font color='Green'>Bubble Sort </font> \n",
    "\n",
    "\n",
    "\n",
    "Bubble Sort is a simple sorting algorithm that compares two adjacent elements and exchanges their values if they are out of order. \n",
    "\n",
    "This is the pseudo code for this algorithm:\n",
    "\n",
    "1. do\n",
    "2. for each pair of adjacent array elements\n",
    "3. if the values in a pair are out of order\n",
    "4. Exchange the values\n",
    "5. while the array is not sorted\n",
    "\n",
    "\n",
    "  The time complexity of this algorithm is quadratic O(n^2): given that the algortihm has two for loops, which is O(n) for each loop.\n",
    "\n",
    "\n",
    "\n",
    "\n",
    "\n",
    "<img src=\"R.png\" alt=\"isolated\" width=\"500\"/>"
   ]
  },
  {
   "cell_type": "code",
   "execution_count": 1,
   "id": "f5b9bb01",
   "metadata": {},
   "outputs": [
    {
     "name": "stdout",
     "output_type": "stream",
     "text": [
      "The Sorted array is as follow:  [11, 12, 22, 25, 34, 64, 90]\n"
     ]
    }
   ],
   "source": [
    "\n",
    "# The following code is an implementation of the bubble sort, it sorts the list in descending order. \n",
    "def bubble_sort(arr):\n",
    "    k=len(arr)\n",
    "    \n",
    "    for i in range(k): #traversing the array\n",
    "        for j in range(0,k-i-1):   # traversing two adjacent elements. \n",
    "            if arr[j]> arr[j+1]:\n",
    "                arr[j],arr[j+1]= arr[j+1], arr[j] # swapping both elements to put them back in order\n",
    "                \n",
    "                \n",
    "# Testing the                 \n",
    "arr = [64, 34, 25, 12, 22, 11, 90]    \n",
    "bubble_sort(arr)\n",
    "print(\"The Sorted array is as follow: \",arr)                \n",
    "                \n",
    "                "
   ]
  },
  {
   "cell_type": "markdown",
   "id": "4e1cdc92",
   "metadata": {},
   "source": [
    "<font color='Green'> Insertion Sort: </font> \n",
    "\n",
    "\n",
    "Insertion sort is a simple algorithm that tries to find the minimum element in the list and moves it to the head, it goes through the array and sorts the elements from the smallest one. This is a quadratic sort algorithms that runs in O(n^2). This algorithm is also much less efficient on smal data sets. The following are some of the charesterstics of the insertion sort algorithm:\n",
    "\n",
    "- Stability: Insertion sort is a stable sorting algorithm, meaning that it preserves the relative order of equal elements.\n",
    "\n",
    "- Efficiency: Insertion sort is efficient for small data sets, but it is not effective for larger lists. It has a time complexity of O(n^2), where n is the number of elements in the array.\n",
    "\n",
    "- Adaptivity: Insertion sort is adaptive, which means that it reduces its total number of steps if given a partially sorted list, making it more efficient.\n",
    "\n",
    "- In-place sorting: Insertion sort is an in-place sorting algorithm, meaning that it does not require any additional memory space to perform the sorting operation.\n",
    "\n",
    "- Online sorting: Insertion sort is an online sorting algorithm, meaning that it can sort a list as it receives it, without having to wait for the entire list to be received.\n",
    "\n",
    "<img src= \"insertionSort.png\" alt=\"isolated\" width=\"500\"/>"
   ]
  },
  {
   "cell_type": "code",
   "execution_count": 2,
   "id": "f7cd93c7",
   "metadata": {},
   "outputs": [
    {
     "name": "stdout",
     "output_type": "stream",
     "text": [
      "This is the resulted sorted array:   [2, 3, 11, 12, 13, 45]\n"
     ]
    }
   ],
   "source": [
    "#Implementation of the insertion sort. \n",
    "\n",
    "\n",
    "def insertion_sort(arr):\n",
    "    \n",
    "    for i in range(1,len(arr)):\n",
    "        \n",
    "        key = arr[i];\n",
    "        \n",
    "        j = i-1;\n",
    "        \n",
    "        while j >=0 and key < arr[j]:\n",
    "            arr[j+1] = arr[j];\n",
    "            j = j-1;\n",
    "            arr[j+1] = key;\n",
    "            \n",
    "            \n",
    "            \n",
    "            \n",
    "a = [12,45,3,2,13,11] \n",
    "insertion_sort(a);\n",
    "print(\"This is the resulted sorted array:  \", a)              \n",
    "     "
   ]
  },
  {
   "cell_type": "markdown",
   "id": "301293f4",
   "metadata": {},
   "source": [
    "<font color='Green'> Merge Sort: </font> \n",
    "\n",
    "\n",
    "Merge sort is a divide and conquer algorithm that dives an array into subarrays, sort the subarryas and merges them to get an output sorted arrray. This process is usaully done by dividing the original array into two halves, sort each half and then merge the two sub-arrays into one sorted array.\n",
    "\n",
    "Merge sort is a recursive algorithm that continuously splits the array in half until it cannot be further divided i.e., the array has only one element left (an array with one element is always sorted). Then the sorted subarrays are merged into one sorted array.\n",
    "\n",
    "The following shows the process of merge sort using a divide and conquer approach:\n",
    "\n",
    "<img src= \"Merge-Sort-Tutorial.png\" alt=\"isolated\" width=\"500\"/>"
   ]
  },
  {
   "cell_type": "code",
   "execution_count": 14,
   "id": "0c8032c3",
   "metadata": {},
   "outputs": [
    {
     "name": "stdout",
     "output_type": "stream",
     "text": [
      "The sorted array using merge sort is:  [-1, 3, 4, 9, 23, 32, 45, 140]\n"
     ]
    }
   ],
   "source": [
    "#impelemntation of the merge sort algorithm in python.\n",
    "\n",
    "def merge_sort(arr):\n",
    "    \n",
    "    if len(arr)> 1:\n",
    "        \n",
    "        mid = len(arr)//2\n",
    "        \n",
    "        left_half = arr[:mid]\n",
    "        right_half = arr[mid:]\n",
    "        \n",
    "        merge_sort(left_half)\n",
    "        merge_sort(right_half)\n",
    "        \n",
    "        i=j=k=0\n",
    "        \n",
    "        while i<len(left_half) and j<len(right_half):\n",
    "            \n",
    "            if left_half[i] < right_half[j]:\n",
    "                \n",
    "                arr[k] = left_half[i]\n",
    "                \n",
    "                i+=1\n",
    "            \n",
    "            else:\n",
    "                arr[k] = right_half[j]\n",
    "                j+=1\n",
    "                \n",
    "            k +=1\n",
    "            \n",
    "        while i< len(left_half):\n",
    "            \n",
    "            arr[k]= left_half[i]\n",
    "            \n",
    "            i+= 1\n",
    "            k+= 1    \n",
    "        \n",
    "        while j< len(right_half):\n",
    "            \n",
    "            arr[k] = right_half[j]\n",
    "            \n",
    "            j+=1\n",
    "            k+=1\n",
    "            \n",
    "        return arr       \n",
    "        \n",
    "test_array= [45,3,9,-1,4,23,32,140]\n",
    "sorted_array = merge_sort(test_array)\n",
    "print(\"The sorted array using merge sort is: \",sorted_array)\n",
    "\n",
    "\n",
    "\n",
    "     "
   ]
  },
  {
   "cell_type": "markdown",
   "id": "da8f7047",
   "metadata": {},
   "source": [
    "<font color='Green'> Selction Sort: </font> \n",
    "\n",
    "\n",
    "Selection Sort is a simple sorting algorithm that continously selects the smallest elements (or largesr depending on the sorting order) and moves it to the sorted part of the list. The algorithm repeadtly selects the smallest element of the unsorted portion of the list and swaps it with the first element of the unsorted portion until the entire list is sorted. \n",
    "\n",
    "The following shows the steps that are performed by the selection algorithm to sort all the elements in an array. \n",
    "\n",
    "<img src= \"selection.png\" alt=\"isolated\" width=\"600\"/>"
   ]
  },
  {
   "cell_type": "code",
   "execution_count": 34,
   "id": "80509fad",
   "metadata": {},
   "outputs": [
    {
     "name": "stdout",
     "output_type": "stream",
     "text": [
      "The Sorted array is as follow:  [2, 3, 6, 7, 8, 45]\n"
     ]
    }
   ],
   "source": [
    "def selection_sort(arr):\n",
    "    \n",
    "    k = len(arr)\n",
    "    \n",
    "    for i in range(k-1):\n",
    "        \n",
    "        min_index = i\n",
    "        \n",
    "        for j in range(i+1,k):\n",
    "            if arr[j]< arr[min_index]:\n",
    "              min_index =j\n",
    "            \n",
    "    # swap the elements at the begining of the array when a smallest element is found\n",
    "        arr[i], arr[min_index] = arr[min_index], arr[i]\n",
    "    \n",
    "list = [2,3,45,6,8,7]   \n",
    "selection_sort(list)\n",
    "print(\"The Sorted array is as follow: \", list)\n",
    "        \n",
    "       \n",
    "    \n",
    "    "
   ]
  }
 ],
 "metadata": {
  "kernelspec": {
   "display_name": "Python 3 (ipykernel)",
   "language": "python",
   "name": "python3"
  },
  "language_info": {
   "codemirror_mode": {
    "name": "ipython",
    "version": 3
   },
   "file_extension": ".py",
   "mimetype": "text/x-python",
   "name": "python",
   "nbconvert_exporter": "python",
   "pygments_lexer": "ipython3",
   "version": "3.11.5"
  }
 },
 "nbformat": 4,
 "nbformat_minor": 5
}
